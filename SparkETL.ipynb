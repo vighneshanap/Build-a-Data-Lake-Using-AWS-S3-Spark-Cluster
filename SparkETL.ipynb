{
 "cells": [
  {
   "cell_type": "markdown",
   "metadata": {
    "editable": true
   },
   "source": [
    "# Data Lakes using AWS S3 and Apache Spark"
   ]
  },
  {
   "cell_type": "code",
   "execution_count": 32,
   "metadata": {
    "editable": true
   },
   "outputs": [],
   "source": [
    "import configparser\n",
    "import datetime\n",
    "import os\n",
    "from pyspark.sql import SparkSession\n",
    "from pyspark.sql.functions import udf, col, from_unixtime, monotonically_increasing_id\n",
    "from pyspark.sql.functions import year, month, dayofmonth, hour, weekofyear, date_format\n",
    "from pyspark.sql.types import IntegerType, TimestampType, DateType"
   ]
  },
  {
   "cell_type": "markdown",
   "metadata": {
    "editable": true
   },
   "source": [
    "## Creating local SparkSession"
   ]
  },
  {
   "cell_type": "code",
   "execution_count": 12,
   "metadata": {
    "editable": true
   },
   "outputs": [],
   "source": [
    "spark = SparkSession \\\n",
    "    .builder \\\n",
    "    .config(\"spark.jars.packages\", \"org.apache.hadoop:hadoop-aws:2.7.0\") \\\n",
    "    .getOrCreate()"
   ]
  },
  {
   "cell_type": "code",
   "execution_count": null,
   "metadata": {
    "editable": true
   },
   "outputs": [],
   "source": [
    "config = configparser.ConfigParser()\n",
    "config.read('dl.cfg')\n",
    "\n",
    "# get AWS credentials from dl.cfg file\n",
    "os.environ['AWS_ACCESS_KEY_ID']=config.get('AWS','AWS_ACCESS_KEY_ID')\n",
    "os.environ['AWS_SECRET_ACCESS_KEY']=config.get('AWS','AWS_SECRET_ACCESS_KEY')"
   ]
  },
  {
   "cell_type": "code",
   "execution_count": null,
   "metadata": {
    "editable": true
   },
   "outputs": [],
   "source": [
    "# local data extract\n",
    "song_data = \"song_data/*/*/*/*.json\"\n",
    "log_data = \"log_data/*.json\"\n",
    "\n",
    "# s3 bucket extraction\n",
    "#song_data = \"data/song_data/*/*/*/*.json\"\n",
    "#log_data = \"s3a://udacity-dend/log-data/*/*/*.json\""
   ]
  },
  {
   "cell_type": "code",
   "execution_count": 30,
   "metadata": {
    "editable": true
   },
   "outputs": [],
   "source": [
    "# local data load/store\n",
    "output_data = \"sparkify_data\"\n",
    "\n",
    "# s3 bucket data load/store\n",
    "#output_data = \"s3a://udacitydends\""
   ]
  },
  {
   "cell_type": "code",
   "execution_count": 9,
   "metadata": {
    "collapsed": true,
    "editable": true,
    "jupyter": {
     "outputs_hidden": true
    }
   },
   "outputs": [
    {
     "name": "stdout",
     "output_type": "stream",
     "text": [
      "Archive:  data/song-data.zip\n",
      "caution: filename not matched:  log_data\n"
     ]
    }
   ],
   "source": [
    "!unzip data/song-data.zip "
   ]
  },
  {
   "cell_type": "code",
   "execution_count": 11,
   "metadata": {
    "collapsed": true,
    "editable": true,
    "jupyter": {
     "outputs_hidden": true
    }
   },
   "outputs": [
    {
     "name": "stdout",
     "output_type": "stream",
     "text": [
      "Archive:  data/log-data.zip\n",
      "  inflating: log_data/2018-11-01-events.json  \n",
      "  inflating: log_data/2018-11-02-events.json  \n",
      "  inflating: log_data/2018-11-03-events.json  \n",
      "  inflating: log_data/2018-11-04-events.json  \n",
      "  inflating: log_data/2018-11-05-events.json  \n",
      "  inflating: log_data/2018-11-06-events.json  \n",
      "  inflating: log_data/2018-11-07-events.json  \n",
      "  inflating: log_data/2018-11-08-events.json  \n",
      "  inflating: log_data/2018-11-09-events.json  \n",
      "  inflating: log_data/2018-11-10-events.json  \n",
      "  inflating: log_data/2018-11-11-events.json  \n",
      "  inflating: log_data/2018-11-12-events.json  \n",
      "  inflating: log_data/2018-11-13-events.json  \n",
      "  inflating: log_data/2018-11-14-events.json  \n",
      "  inflating: log_data/2018-11-15-events.json  \n",
      "  inflating: log_data/2018-11-16-events.json  \n",
      "  inflating: log_data/2018-11-17-events.json  \n",
      "  inflating: log_data/2018-11-18-events.json  \n",
      "  inflating: log_data/2018-11-19-events.json  \n",
      "  inflating: log_data/2018-11-20-events.json  \n",
      "  inflating: log_data/2018-11-21-events.json  \n",
      "  inflating: log_data/2018-11-22-events.json  \n",
      "  inflating: log_data/2018-11-23-events.json  \n",
      "  inflating: log_data/2018-11-24-events.json  \n",
      "  inflating: log_data/2018-11-25-events.json  \n",
      "  inflating: log_data/2018-11-26-events.json  \n",
      "  inflating: log_data/2018-11-27-events.json  \n",
      "  inflating: log_data/2018-11-28-events.json  \n",
      "  inflating: log_data/2018-11-29-events.json  \n",
      "  inflating: log_data/2018-11-30-events.json  \n"
     ]
    }
   ],
   "source": [
    "!unzip data/log-data.zip -d log_data"
   ]
  },
  {
   "cell_type": "code",
   "execution_count": null,
   "metadata": {
    "editable": true
   },
   "outputs": [],
   "source": [
    "!rm -fr sparkify_data"
   ]
  },
  {
   "cell_type": "code",
   "execution_count": 13,
   "metadata": {
    "editable": true
   },
   "outputs": [
    {
     "name": "stdout",
     "output_type": "stream",
     "text": [
      "root\n",
      " |-- artist_id: string (nullable = true)\n",
      " |-- artist_latitude: double (nullable = true)\n",
      " |-- artist_location: string (nullable = true)\n",
      " |-- artist_longitude: double (nullable = true)\n",
      " |-- artist_name: string (nullable = true)\n",
      " |-- duration: double (nullable = true)\n",
      " |-- num_songs: long (nullable = true)\n",
      " |-- song_id: string (nullable = true)\n",
      " |-- title: string (nullable = true)\n",
      " |-- year: long (nullable = true)\n",
      "\n"
     ]
    }
   ],
   "source": [
    "df = spark.read.json(song_data)\n",
    "df.printSchema()"
   ]
  },
  {
   "cell_type": "code",
   "execution_count": 17,
   "metadata": {
    "editable": true
   },
   "outputs": [
    {
     "data": {
      "text/plain": [
       "[Row(song_id='SOGOSOV12AF72A285E', title='¿Dónde va Chichi?', artist_id='ARGUVEV1187B98BA17', year=1997, duration=313.12934),\n",
       " Row(song_id='SOMZWCG12A8C13C480', title=\"I Didn't Mean To\", artist_id='ARD7TVE1187B99BFB1', year=0, duration=218.93179),\n",
       " Row(song_id='SOUPIRU12A6D4FA1E1', title='Der Kleine Dompfaff', artist_id='ARJIE2Y1187B994AB7', year=0, duration=152.92036),\n",
       " Row(song_id='SOXVLOJ12AB0189215', title='Amor De Cabaret', artist_id='ARKRRTF1187B9984DA', year=0, duration=177.47546)]"
      ]
     },
     "execution_count": 17,
     "metadata": {},
     "output_type": "execute_result"
    }
   ],
   "source": [
    "songs_df = df.select('song_id', 'title', 'artist_id', 'year', 'duration').where(df.song_id != '').dropDuplicates(['song_id'])\n",
    "songs_df.head(4)"
   ]
  },
  {
   "cell_type": "code",
   "execution_count": 18,
   "metadata": {
    "editable": true
   },
   "outputs": [
    {
     "data": {
      "text/plain": [
       "[Row(artist_id='AR9AWNF1187B9AB0B4', artist_name='Kenny G featuring Daryl Hall', artist_location='Seattle, Washington USA', artist_latitude=None, artist_longitude=None),\n",
       " Row(artist_id='AR0IAWL1187B9A96D0', artist_name='Danilo Perez', artist_location='Panama', artist_latitude=8.4177, artist_longitude=-80.11278),\n",
       " Row(artist_id='AR0RCMP1187FB3F427', artist_name='Billie Jo Spears', artist_location='Beaumont, TX', artist_latitude=30.08615, artist_longitude=-94.10158),\n",
       " Row(artist_id='AREDL271187FB40F44', artist_name='Soul Mekanik', artist_location='', artist_latitude=None, artist_longitude=None)]"
      ]
     },
     "execution_count": 18,
     "metadata": {},
     "output_type": "execute_result"
    }
   ],
   "source": [
    "artists_table = df.select('artist_id', 'artist_name', 'artist_location', 'artist_latitude', 'artist_longitude').where(df.artist_id != '').dropDuplicates(['artist_id'])\n",
    "artists_table.head(4)"
   ]
  },
  {
   "cell_type": "code",
   "execution_count": 19,
   "metadata": {
    "editable": true
   },
   "outputs": [
    {
     "name": "stdout",
     "output_type": "stream",
     "text": [
      "root\n",
      " |-- artist: string (nullable = true)\n",
      " |-- auth: string (nullable = true)\n",
      " |-- firstName: string (nullable = true)\n",
      " |-- gender: string (nullable = true)\n",
      " |-- itemInSession: long (nullable = true)\n",
      " |-- lastName: string (nullable = true)\n",
      " |-- length: double (nullable = true)\n",
      " |-- level: string (nullable = true)\n",
      " |-- location: string (nullable = true)\n",
      " |-- method: string (nullable = true)\n",
      " |-- page: string (nullable = true)\n",
      " |-- registration: double (nullable = true)\n",
      " |-- sessionId: long (nullable = true)\n",
      " |-- song: string (nullable = true)\n",
      " |-- status: long (nullable = true)\n",
      " |-- ts: long (nullable = true)\n",
      " |-- userAgent: string (nullable = true)\n",
      " |-- userId: string (nullable = true)\n",
      "\n"
     ]
    }
   ],
   "source": [
    "df = spark.read.json(log_data)\n",
    "df.printSchema()"
   ]
  },
  {
   "cell_type": "code",
   "execution_count": 20,
   "metadata": {
    "editable": true
   },
   "outputs": [],
   "source": [
    "df = df[df.page == 'NextSong']"
   ]
  },
  {
   "cell_type": "code",
   "execution_count": 22,
   "metadata": {
    "editable": true
   },
   "outputs": [
    {
     "data": {
      "text/plain": [
       "[Row(userId='51', firstName='Maia', lastName='Burke', gender='F', level='free'),\n",
       " Row(userId='7', firstName='Adelyn', lastName='Jordan', gender='F', level='free'),\n",
       " Row(userId='15', firstName='Lily', lastName='Koch', gender='F', level='paid'),\n",
       " Row(userId='54', firstName='Kaleb', lastName='Cook', gender='M', level='free')]"
      ]
     },
     "execution_count": 22,
     "metadata": {},
     "output_type": "execute_result"
    }
   ],
   "source": [
    "users_table = df.sort(df.ts.desc()).select('userId', 'firstName', 'lastName', 'gender', 'level').where(df.userId != '').dropDuplicates(['userId'])\n",
    "users_table.head(4)"
   ]
  },
  {
   "cell_type": "code",
   "execution_count": 27,
   "metadata": {
    "editable": true
   },
   "outputs": [
    {
     "data": {
      "text/plain": [
       "[Row(start_time='2018-11-15 07:56:18', hour=7, day='15', week=46, month=11, year=2018, weekday='4'),\n",
       " Row(start_time='2018-11-15 16:51:56', hour=16, day='15', week=46, month=11, year=2018, weekday='4'),\n",
       " Row(start_time='2018-11-15 18:31:38', hour=18, day='15', week=46, month=11, year=2018, weekday='4'),\n",
       " Row(start_time='2018-11-14 00:41:15', hour=0, day='14', week=46, month=11, year=2018, weekday='3')]"
      ]
     },
     "execution_count": 27,
     "metadata": {},
     "output_type": "execute_result"
    }
   ],
   "source": [
    "get_timestamp = udf(lambda x: int(x / 1000.0), IntegerType())\n",
    "df = df.withColumn(\"timestamp\", get_timestamp(df.ts))\n",
    "df = df.withColumn(\"start_time\", from_unixtime(df.timestamp))\n",
    "time_table = df.dropDuplicates(['start_time']).select('start_time').withColumn('hour', hour(df.start_time)) \\\n",
    "                .withColumn('day', date_format(df.start_time,'d')).withColumn('week', weekofyear(df.start_time)) \\\n",
    "                .withColumn('month', month(df.start_time)).withColumn('year', year(df.start_time)) \\\n",
    "                .withColumn('weekday', date_format(df.start_time,'u'))\n",
    "time_table.head(4)"
   ]
  },
  {
   "cell_type": "code",
   "execution_count": 31,
   "metadata": {
    "editable": true
   },
   "outputs": [
    {
     "data": {
      "text/plain": [
       "[Row(start_time='2018-11-15 00:30:26', userId='26', level='free', song_id=None, artist_id=None, sessionId=583, location='San Jose-Sunnyvale-Santa Clara, CA', userAgent='\"Mozilla/5.0 (X11; Linux x86_64) AppleWebKit/537.36 (KHTML, like Gecko) Ubuntu Chromium/36.0.1985.125 Chrome/36.0.1985.125 Safari/537.36\"', songplay_id=0, month=11, year=2018),\n",
       " Row(start_time='2018-11-15 00:41:21', userId='26', level='free', song_id=None, artist_id=None, sessionId=583, location='San Jose-Sunnyvale-Santa Clara, CA', userAgent='\"Mozilla/5.0 (X11; Linux x86_64) AppleWebKit/537.36 (KHTML, like Gecko) Ubuntu Chromium/36.0.1985.125 Chrome/36.0.1985.125 Safari/537.36\"', songplay_id=1, month=11, year=2018),\n",
       " Row(start_time='2018-11-15 00:45:41', userId='26', level='free', song_id=None, artist_id=None, sessionId=583, location='San Jose-Sunnyvale-Santa Clara, CA', userAgent='\"Mozilla/5.0 (X11; Linux x86_64) AppleWebKit/537.36 (KHTML, like Gecko) Ubuntu Chromium/36.0.1985.125 Chrome/36.0.1985.125 Safari/537.36\"', songplay_id=2, month=11, year=2018),\n",
       " Row(start_time='2018-11-15 03:44:09', userId='61', level='free', song_id=None, artist_id=None, sessionId=597, location='Houston-The Woodlands-Sugar Land, TX', userAgent='\"Mozilla/5.0 (Macintosh; Intel Mac OS X 10_9_4) AppleWebKit/537.77.4 (KHTML, like Gecko) Version/7.0.5 Safari/537.77.4\"', songplay_id=3, month=11, year=2018)]"
      ]
     },
     "execution_count": 31,
     "metadata": {},
     "output_type": "execute_result"
    }
   ],
   "source": [
    "songdf = spark.read.parquet(output_data + \"/songs_table/songs_table.parquet\")\n",
    "song_df = df.join(songdf, df.song==songdf.title, how='left')\n",
    "songplays_table = song_df.select('start_time', 'userId', 'level', 'song_id', 'artist_id', 'sessionId', 'location', 'userAgent')\n",
    "songplays_table = songplays_table.withColumn(\"songplay_id\", monotonically_increasing_id()).withColumn('month', month(df.start_time)).withColumn('year', year(df.start_time))\n",
    "songplays_table.head(4)"
   ]
  },
  {
   "cell_type": "markdown",
   "metadata": {
    "editable": true
   },
   "source": [
    "## Storing the result into Parquet files"
   ]
  },
  {
   "cell_type": "code",
   "execution_count": null,
   "metadata": {
    "editable": true
   },
   "outputs": [],
   "source": [
    "songs_table.write.partitionBy(['year', 'artist_id']).parquet(output_data + \"/songs_table/songs_table.parquet\")"
   ]
  },
  {
   "cell_type": "code",
   "execution_count": null,
   "metadata": {
    "editable": true
   },
   "outputs": [],
   "source": [
    "artists_table.write.parquet(output_data + \"/artists_table/artists_table.parquet\")"
   ]
  },
  {
   "cell_type": "code",
   "execution_count": null,
   "metadata": {
    "editable": true
   },
   "outputs": [],
   "source": [
    "users_table.write.parquet(output_data + \"/users_table/users_table.parquet\")"
   ]
  },
  {
   "cell_type": "code",
   "execution_count": null,
   "metadata": {
    "editable": true
   },
   "outputs": [],
   "source": [
    "time_table.write.partitionBy(['year', 'month']).parquet(output_data + \"/time_table/time_table.parquet\")"
   ]
  },
  {
   "cell_type": "code",
   "execution_count": null,
   "metadata": {
    "editable": true
   },
   "outputs": [],
   "source": [
    "songplays_table.write.partitionBy(['year','month']).parquet(output_data + \"/songplays_table/songplays_table.parquet\")"
   ]
  },
  {
   "cell_type": "code",
   "execution_count": null,
   "metadata": {
    "editable": true
   },
   "outputs": [],
   "source": []
  },
  {
   "cell_type": "code",
   "execution_count": null,
   "metadata": {
    "editable": true
   },
   "outputs": [],
   "source": []
  }
 ],
 "metadata": {
  "kernelspec": {
   "display_name": "Python 3",
   "language": "python",
   "name": "python3"
  },
  "language_info": {
   "codemirror_mode": {
    "name": "ipython",
    "version": 3
   },
   "file_extension": ".py",
   "mimetype": "text/x-python",
   "name": "python",
   "nbconvert_exporter": "python",
   "pygments_lexer": "ipython3",
   "version": "3.6.3"
  }
 },
 "nbformat": 4,
 "nbformat_minor": 4
}
